{
 "cells": [
  {
   "cell_type": "code",
   "execution_count": 34,
   "id": "95c7ca27",
   "metadata": {},
   "outputs": [],
   "source": [
    "import os\n",
    "import requests\n",
    "import sys\n",
    "\n",
    "# locate root dir\n",
    "flare = '\\\\flare.py'\n",
    "path = os.getcwd()\n",
    "while not os.path.isfile(path + flare):\n",
    "    path = os.path.dirname(path)\n",
    "sys.path.append(path)\n",
    "\n",
    "from pipe.authorization.clash_api import retrieve_api_key"
   ]
  },
  {
   "cell_type": "code",
   "execution_count": 37,
   "id": "10913785",
   "metadata": {},
   "outputs": [
    {
     "data": {
      "text/plain": [
       "'{\"reason\":\"accessDenied\",\"message\":\"Missing authorization\"}'"
      ]
     },
     "execution_count": 37,
     "metadata": {},
     "output_type": "execute_result"
    }
   ],
   "source": [
    "key = retrieve_api_key()\n",
    "url = bloodline.convert_to_url()\n",
    "requests.get('https://api.clashofclans.com/v1/clans/%23YQLJ9CRU/members', 'Bearer eyJ0eXAiOiJKV1QiLCJhbGciOiJIUzUxMiIsImtpZCI6IjI4YTMxOGY3LTAwMDAtYTFlYi03ZmExLTJjNzQzM2M2Y2NhNSJ9. \\\\\\neyJpc3MiOiJzdXBlcmNlbGwiLCJhdWQiOiJzdXBlcmNlbGw6Z2FtZWFwaSIsImp0aSI6IjdmNDRmMzUzLTU0ZDgtNDM2Yi05YWE5LTFhMmU5NTAwODJmNiIsI \\\\\\nmlhdCI6MTYxNjc5MzUwMSwic3ViIjoiZGV2ZWxvcGVyL2RlMTE5MTZkLWI4ZDktNjcwYi04MmZlLTdjOGRjYzQ4MjE3NiIsInNjb3BlcyI6WyJjbGFzaCJd \\\\\\nLCJsaW1pdHMiOlt7InRpZXIiOiJkZXZlbG9wZXIvc2lsdmVyIiwidHlwZSI6InRocm90dGxpbmcifSx7ImNpZHJzIjpbIjczLjEzNy4xMTMuMTgiXSwidHlwZ \\\\\\nSI6ImNsaWVudCJ9XX0.UNVMbZtklvMnE7-fxaup-VzeVSU3VzJ0UQb-md2T0QoJoETrg2noWd9e0kQOZMP1Y6Vq1-gmRKsDGh_eUvvJYg').text"
   ]
  },
  {
   "cell_type": "code",
   "execution_count": 26,
   "id": "b59d9434",
   "metadata": {},
   "outputs": [],
   "source": [
    "class Clan:\n",
    "    clans = []\n",
    "    \n",
    "    def __init__(self, clantag):\n",
    "        self.clantag = clantag\n",
    "        self.clans.append(self)\n",
    "\n",
    "    def convert_to_url(cls):\n",
    "        clantag = cls.clantag\n",
    "        first_char = clantag[0]\n",
    "        if first_char == '#':\n",
    "            clantag = '%23' + clantag[1:]\n",
    "        url = f'https://api.clashofclans.com/v1/clans/{clantag}/members'\n",
    "        return url"
   ]
  },
  {
   "cell_type": "code",
   "execution_count": 27,
   "id": "cd0afe51",
   "metadata": {},
   "outputs": [],
   "source": [
    "bloodline = Clan('#YQLJ9CRU')"
   ]
  },
  {
   "cell_type": "code",
   "execution_count": 29,
   "id": "409bcaf0",
   "metadata": {},
   "outputs": [
    {
     "data": {
      "text/plain": [
       "'https://api.clashofclans.com/v1/clans/%23YQLJ9CRU/members'"
      ]
     },
     "execution_count": 29,
     "metadata": {},
     "output_type": "execute_result"
    }
   ],
   "source": [
    "bloodline.convert_to_url()"
   ]
  },
  {
   "cell_type": "code",
   "execution_count": 36,
   "id": "ba83e60d",
   "metadata": {},
   "outputs": [
    {
     "data": {
      "text/plain": [
       "\"'Bearer eyJ0eXAiOiJKV1QiLCJhbGciOiJIUzUxMiIsImtpZCI6IjI4YTMxOGY3LTAwMDAtYTFlYi03ZmExLTJjNzQzM2M2Y2NhNSJ9. \\\\\\neyJpc3MiOiJzdXBlcmNlbGwiLCJhdWQiOiJzdXBlcmNlbGw6Z2FtZWFwaSIsImp0aSI6IjdmNDRmMzUzLTU0ZDgtNDM2Yi05YWE5LTFhMmU5NTAwODJmNiIsI \\\\\\nmlhdCI6MTYxNjc5MzUwMSwic3ViIjoiZGV2ZWxvcGVyL2RlMTE5MTZkLWI4ZDktNjcwYi04MmZlLTdjOGRjYzQ4MjE3NiIsInNjb3BlcyI6WyJjbGFzaCJd \\\\\\nLCJsaW1pdHMiOlt7InRpZXIiOiJkZXZlbG9wZXIvc2lsdmVyIiwidHlwZSI6InRocm90dGxpbmcifSx7ImNpZHJzIjpbIjczLjEzNy4xMTMuMTgiXSwidHlwZ \\\\\\nSI6ImNsaWVudCJ9XX0.UNVMbZtklvMnE7-fxaup-VzeVSU3VzJ0UQb-md2T0QoJoETrg2noWd9e0kQOZMP1Y6Vq1-gmRKsDGh_eUvvJYg'\""
      ]
     },
     "execution_count": 36,
     "metadata": {},
     "output_type": "execute_result"
    }
   ],
   "source": [
    "key"
   ]
  },
  {
   "cell_type": "code",
   "execution_count": null,
   "id": "79b16232",
   "metadata": {},
   "outputs": [],
   "source": []
  }
 ],
 "metadata": {
  "kernelspec": {
   "display_name": "Python 3",
   "language": "python",
   "name": "python3"
  },
  "language_info": {
   "codemirror_mode": {
    "name": "ipython",
    "version": 3
   },
   "file_extension": ".py",
   "mimetype": "text/x-python",
   "name": "python",
   "nbconvert_exporter": "python",
   "pygments_lexer": "ipython3",
   "version": "3.9.5"
  }
 },
 "nbformat": 4,
 "nbformat_minor": 5
}
